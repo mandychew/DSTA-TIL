{
 "cells": [
  {
   "cell_type": "markdown",
   "metadata": {},
   "source": [
    "# CV Challenge\n",
    "You are tasked to create and train an *Object Detection* model to:  \n",
    "- Detect the *bounding box coordinates of all humans* in the images  \n",
    "- Classify the positions of all humans in the images (*standing or fallen*)  \n",
    "\n",
    "The evaluation data will consist of images of humans in various standing and fallen positions."
   ]
  },
  {
   "cell_type": "code",
   "execution_count": null,
   "metadata": {},
   "outputs": [],
   "source": [
    "print('test')"
   ]
  }
 ],
 "metadata": {
  "language_info": {
   "name": "python"
  },
  "orig_nbformat": 4
 },
 "nbformat": 4,
 "nbformat_minor": 2
}
