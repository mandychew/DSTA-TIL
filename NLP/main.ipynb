{
 "cells": [
  {
   "cell_type": "markdown",
   "metadata": {},
   "source": [
    "# NLP Challenge\n",
    "The dataset is a collection of audio clips with expressions of the following emotions: *angry, fear, happy, neutral, sad*.  \n",
    "  \n",
    "Your task is to train a model to perform *speech emotion recognition*.  \n",
    "  \n",
    "You will be provided a training set for your use. You are allowed to include additional data to train your model.  \n",
    "  \n",
    "The evaluation data will consist of audio clips spoken in multiple languages.  \n",
    "*Majority* of the evaluation data are in the intonation of *Singapore English*."
   ]
  },
  {
   "cell_type": "code",
   "execution_count": null,
   "metadata": {},
   "outputs": [],
   "source": []
  }
 ],
 "metadata": {
  "language_info": {
   "name": "python"
  },
  "orig_nbformat": 4
 },
 "nbformat": 4,
 "nbformat_minor": 2
}
